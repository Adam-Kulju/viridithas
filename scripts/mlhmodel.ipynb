{
 "cells": [
  {
   "cell_type": "code",
   "execution_count": 24,
   "metadata": {},
   "outputs": [],
   "source": [
    "import chess\n",
    "import chess.pgn\n",
    "from sklearn.linear_model import LinearRegression\n",
    "import numpy as np\n"
   ]
  },
  {
   "cell_type": "code",
   "execution_count": null,
   "metadata": {},
   "outputs": [],
   "source": [
    "PGN = \"../madchess-v-viri.pgn\"\n",
    "# list of (phase, move) tuples\n",
    "xs: \"list[tuple[int, int]]\" = []\n",
    "# list of moves-left values\n",
    "ys: \"list[int]\" = []\n",
    "pawn_phase, knight_phase, bishop_phase, rook_phase, queen_phase = [1, 10, 10, 20, 40]"
   ]
  },
  {
   "cell_type": "code",
   "execution_count": null,
   "metadata": {},
   "outputs": [],
   "source": [
    "game_counter = 0\n",
    "with open(PGN, \"r\") as pgn:\n",
    "    while True:\n",
    "        pos_counter = 0\n",
    "        game = chess.pgn.read_game(pgn)\n",
    "        if game is None:  # EOF\n",
    "            break\n",
    "        game_counter += 1\n",
    "        nodes = game.mainline()\n",
    "        for node in nodes:\n",
    "            board = node.board()\n",
    "            phase = 0\n",
    "            phase += chess.popcount(board.pawns) * pawn_phase\n",
    "            phase += chess.popcount(board.knights) * knight_phase\n",
    "            phase += chess.popcount(board.bishops) * bishop_phase\n",
    "            phase += chess.popcount(board.rooks) * rook_phase\n",
    "            phase += chess.popcount(board.queens) * queen_phase\n",
    "            xs.append((phase, board.ply()))\n",
    "            pos_counter += 1\n",
    "        for i in range(pos_counter):\n",
    "            ys.append(pos_counter - i)\n",
    "    assert len(xs) == len(ys), f\"{len(xs) = }, {len(ys) = }\"\n",
    "print(f\"Read {game_counter} games, {len(xs)} positions\")"
   ]
  },
  {
   "cell_type": "code",
   "execution_count": null,
   "metadata": {},
   "outputs": [],
   "source": [
    "# augment xs with features\n",
    "xs_aug = [ [x[0], x[1], x[0] * x[1], x[0] ** 2, x[1] ** 2] for x in xs ]"
   ]
  },
  {
   "cell_type": "code",
   "execution_count": 25,
   "metadata": {},
   "outputs": [
    {
     "name": "stdout",
     "output_type": "stream",
     "text": [
      "weights = array([ 0.18644759, -0.29377428])\n",
      "intercept = 63.537016010492195\n",
      "mse = 1331.3950665687296\n"
     ]
    }
   ],
   "source": [
    "# fit model\n",
    "model = LinearRegression()\n",
    "model.fit(xs, ys)\n",
    "# write model\n",
    "weights = model.coef_\n",
    "intercept = model.intercept_\n",
    "print(f\"{weights = }\")\n",
    "print(f\"{intercept = }\")\n",
    "mse = np.mean((model.predict(xs) - ys) ** 2)\n",
    "print(f\"{mse = }\")"
   ]
  },
  {
   "cell_type": "code",
   "execution_count": 26,
   "metadata": {},
   "outputs": [
    {
     "name": "stdout",
     "output_type": "stream",
     "text": [
      "weights_aug = [0.322629598871821, -0.7896912608560478, -0.001186089580333777, -0.0007018578808016818, 0.0023484585152976634]\n",
      "intercept_aug = 88.18997739181435\n",
      "mse_aug = 1274.0551762990672\n"
     ]
    }
   ],
   "source": [
    "# fit augmented model\n",
    "model_aug = LinearRegression()\n",
    "model_aug.fit(xs_aug, ys)\n",
    "# write model\n",
    "weights_aug = list(model_aug.coef_)\n",
    "intercept_aug = model_aug.intercept_\n",
    "print(f\"{weights_aug = }\")\n",
    "print(f\"{intercept_aug = }\")\n",
    "mse_aug = np.mean((model_aug.predict(xs_aug) - ys) ** 2)\n",
    "print(f\"{mse_aug = }\")"
   ]
  },
  {
   "cell_type": "code",
   "execution_count": 28,
   "metadata": {},
   "outputs": [
    {
     "name": "stdout",
     "output_type": "stream",
     "text": [
      "mse_30 = 3624.9253326746343\n"
     ]
    }
   ],
   "source": [
    "# test the MSE of always predicting 30\n",
    "mse_30 = np.mean((30 - np.array(ys)) ** 2)\n",
    "print(f\"{mse_30 = }\")"
   ]
  },
  {
   "cell_type": "code",
   "execution_count": null,
   "metadata": {},
   "outputs": [],
   "source": [
    "# average model output over all positions\n",
    "avg = sum(ys) / len(ys)\n",
    "print(f\"{avg = }\")"
   ]
  },
  {
   "cell_type": "code",
   "execution_count": null,
   "metadata": {},
   "outputs": [],
   "source": [
    "1 / 30.0 * avg"
   ]
  },
  {
   "cell_type": "code",
   "execution_count": null,
   "metadata": {},
   "outputs": [],
   "source": [
    "import matplotlib.pyplot as plt\n",
    "from matplotlib.ticker import LinearLocator\n",
    "from matplotlib import cm"
   ]
  },
  {
   "cell_type": "code",
   "execution_count": null,
   "metadata": {},
   "outputs": [],
   "source": [
    "# plot a 3D surface\n",
    "fig, ax = plt.subplots(subplot_kw={\"projection\": \"3d\"})\n",
    "# Make data.\n",
    "X = np.arange(0, 256, 1)\n",
    "Y = np.arange(0, 400, 1)\n",
    "X, Y = np.meshgrid(X, Y)\n",
    "Z = weights[0] * X + weights[1] * Y + intercept\n",
    "# Plot the surface.\n",
    "surf = ax.plot_surface(X, Y, Z, cmap=cm.coolwarm,\n",
    "                          linewidth=0, antialiased=False)\n",
    "# Customize the z axis.\n",
    "ax.set_zlim(0, 400)\n",
    "ax.zaxis.set_major_locator(LinearLocator(10))\n",
    "# Add a color bar which maps values to colors.\n",
    "fig.colorbar(surf, shrink=0.5, aspect=5)\n",
    "plt.show()"
   ]
  }
 ],
 "metadata": {
  "kernelspec": {
   "display_name": "Python 3.8.10 64-bit",
   "language": "python",
   "name": "python3"
  },
  "language_info": {
   "codemirror_mode": {
    "name": "ipython",
    "version": 3
   },
   "file_extension": ".py",
   "mimetype": "text/x-python",
   "name": "python",
   "nbconvert_exporter": "python",
   "pygments_lexer": "ipython3",
   "version": "3.8.10"
  },
  "orig_nbformat": 4,
  "vscode": {
   "interpreter": {
    "hash": "921ef0d5ab9fa1058d3d0825f0913bf887da6e5d896fbb78e831e8ce41f28d49"
   }
  }
 },
 "nbformat": 4,
 "nbformat_minor": 2
}
