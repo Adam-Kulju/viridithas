{
 "cells": [
  {
   "cell_type": "code",
   "execution_count": null,
   "metadata": {},
   "outputs": [],
   "source": [
    "import numpy as np\n",
    "import seaborn as sns\n",
    "import matplotlib.pylab as plt"
   ]
  },
  {
   "cell_type": "code",
   "execution_count": null,
   "metadata": {},
   "outputs": [],
   "source": [
    "ks_vals = [\n",
    "    0,  0,   1,   2,   3,   5,   7,   9,  12,  15,\n",
    "  18,  22,  26,  30,  35,  39,  44,  50,  56,  62,\n",
    "  68,  75,  82,  85,  89,  97, 105, 113, 122, 131,\n",
    " 140, 150, 169, 180, 191, 202, 213, 225, 237, 248,\n",
    " 260, 272, 283, 295, 307, 319, 330, 342, 354, 366,\n",
    " 377, 389, 401, 412, 424, 436, 448, 459, 471, 483,\n",
    " 494, 500, 500, 500, 500, 500, 500, 500, 500, 500,\n",
    " 500, 500, 500, 500, 500, 500, 500, 500, 500, 500,\n",
    " 500, 500, 500, 500, 500, 500, 500, 500, 500, 500,\n",
    " 500, 500, 500, 500, 500, 500, 500, 500, 500, 500\n",
    "]"
   ]
  },
  {
   "cell_type": "code",
   "execution_count": null,
   "metadata": {},
   "outputs": [],
   "source": [
    "# plot the KS values\n",
    "plt.plot(ks_vals)"
   ]
  }
 ],
 "metadata": {
  "kernelspec": {
   "display_name": "Python 3.8.10 64-bit",
   "language": "python",
   "name": "python3"
  },
  "language_info": {
   "codemirror_mode": {
    "name": "ipython",
    "version": 3
   },
   "file_extension": ".py",
   "mimetype": "text/x-python",
   "name": "python",
   "nbconvert_exporter": "python",
   "pygments_lexer": "ipython3",
   "version": "3.8.10"
  },
  "orig_nbformat": 4,
  "vscode": {
   "interpreter": {
    "hash": "921ef0d5ab9fa1058d3d0825f0913bf887da6e5d896fbb78e831e8ce41f28d49"
   }
  }
 },
 "nbformat": 4,
 "nbformat_minor": 2
}
